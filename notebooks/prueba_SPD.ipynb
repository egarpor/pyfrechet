{
 "cells": [
  {
   "cell_type": "code",
   "execution_count": 1,
   "metadata": {},
   "outputs": [
    {
     "name": "stderr",
     "output_type": "stream",
     "text": [
      "INFO: Using numpy backend\n"
     ]
    }
   ],
   "source": [
    "import sys, os\n",
    "sys.path.append(os.path.dirname(os.getcwd()))\n",
    "import pickle \n",
    "import numpy as np\n",
    "import pandas as pd\n",
    "from tqdm import tqdm\n",
    "from scipy.linalg import expm\n",
    "from scipy.stats import wishart\n",
    "from joblib import Parallel, delayed\n",
    "from sklearn.model_selection import train_test_split\n",
    "from sklearn.preprocessing import MinMaxScaler\n",
    "from pyfrechet.metric_spaces import MetricData, LogCholesky, spd_to_log_chol, log_chol_to_spd\n",
    "from pyfrechet.regression.bagged_regressor import BaggedRegressor\n",
    "from pyfrechet.regression.trees import Tree"
   ]
  },
  {
   "cell_type": "code",
   "execution_count": 42,
   "metadata": {},
   "outputs": [],
   "source": [
    "path='C:/Users/J2404/OneDrive/Documentos/GitHub/pyfrechet/simulations_SPD'\n",
    "file=os.listdir(os.path.join(path, 'data'))[2]\n",
    "M=LogCholesky(dim=2)"
   ]
  },
  {
   "cell_type": "code",
   "execution_count": 43,
   "metadata": {},
   "outputs": [],
   "source": [
    "with open(os.path.join(path, 'data/'+file), 'rb') as f:\n",
    "        sample = pickle.load(f)\n",
    "X=np.c_[sample['sample'][0]]\n",
    "sampleY_LogChol=np.c_[[spd_to_log_chol(A) for A in sample['sample'][1]]]\n",
    "y=MetricData(M, sampleY_LogChol)\n",
    "\n",
    "# Train/test partition and scaling data\n",
    "train_idx, test_idx=train_test_split(np.arange(len(X)), test_size=100)\n",
    "X_train=X[train_idx]\n",
    "X_test=X[test_idx]\n",
    "y_train=y[train_idx]\n",
    "y_test=y[test_idx]\n",
    "scaler=MinMaxScaler(feature_range=(0,1))\n",
    "X_train=scaler.fit_transform(X_train)\n",
    "X_test=scaler.transform(X_test)"
   ]
  },
  {
   "cell_type": "code",
   "execution_count": 44,
   "metadata": {},
   "outputs": [],
   "source": [
    "base = Tree(split_type='2means',\n",
    "        impurity_method='cart',\n",
    "        mtry=None, # It is a regression curve setting, only one predictor\n",
    "        min_split_size=1)\n",
    "forest = BaggedRegressor(estimator=base,\n",
    "                        n_estimators=100,\n",
    "                        bootstrap_fraction=1,\n",
    "                        bootstrap_replace=True,\n",
    "                        n_jobs=-1)\n",
    "forest.fit(X_train, y_train)\n",
    "\n",
    "results={'train_indices': train_idx,\n",
    "            'y_train_data': y_train.data,\n",
    "            'train_predictions': forest.predict(X_train).data,\n",
    "            'y_test_data': y_test.data,\n",
    "            'test_predictions': forest.predict(X_test).data,\n",
    "            'oob_errors': forest.oob_errors()}"
   ]
  },
  {
   "cell_type": "code",
   "execution_count": 45,
   "metadata": {},
   "outputs": [
    {
     "data": {
      "text/plain": [
       "0.93"
      ]
     },
     "execution_count": 45,
     "metadata": {},
     "output_type": "execute_result"
    }
   ],
   "source": [
    "alpha=0.05\n",
    "Dalpha=np.percentile(results['oob_errors'], (1-alpha)*100)\n",
    "np.mean(M.d(results['test_predictions'], results['y_test_data']) <= Dalpha)"
   ]
  },
  {
   "cell_type": "code",
   "execution_count": null,
   "metadata": {},
   "outputs": [],
   "source": []
  },
  {
   "cell_type": "code",
   "execution_count": null,
   "metadata": {},
   "outputs": [],
   "source": []
  },
  {
   "cell_type": "code",
   "execution_count": null,
   "metadata": {},
   "outputs": [],
   "source": []
  },
  {
   "cell_type": "code",
   "execution_count": 65,
   "metadata": {},
   "outputs": [
    {
     "data": {
      "text/plain": [
       "array([1.4, 0.1])"
      ]
     },
     "execution_count": 65,
     "metadata": {},
     "output_type": "execute_result"
    }
   ],
   "source": [
    "Sigma_1=np.array([[1, -0.6],\n",
    "                  [-0.6, 0.5]])\n",
    "Sigma_2=np.array([[1, 0],\n",
    "                  [0, 1]])\n",
    "Sigma_3=np.array([[0.5, 0.4],\n",
    "                  [0.4, 1]])\n",
    "\n",
    "np.linalg.eigvals(Sigma_1)"
   ]
  }
 ],
 "metadata": {
  "kernelspec": {
   "display_name": "base",
   "language": "python",
   "name": "python3"
  },
  "language_info": {
   "codemirror_mode": {
    "name": "ipython",
    "version": 3
   },
   "file_extension": ".py",
   "mimetype": "text/x-python",
   "name": "python",
   "nbconvert_exporter": "python",
   "pygments_lexer": "ipython3",
   "version": "3.9.7"
  }
 },
 "nbformat": 4,
 "nbformat_minor": 2
}
